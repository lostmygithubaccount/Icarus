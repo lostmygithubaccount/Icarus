{
 "cells": [
  {
   "cell_type": "markdown",
   "metadata": {},
   "source": [
    "# Exploratory data analysis (EDA)\n",
    "\n",
    "Use this notebook to explore and visualize the data."
   ]
  },
  {
   "cell_type": "code",
   "execution_count": null,
   "metadata": {},
   "outputs": [],
   "source": [
    "import os\n",
    "import ibis\n",
    "import ibis.selectors as s\n",
    "\n",
    "import plotly.express as px\n",
    "\n",
    "from icarus.config import (\n",
    "    DATA_DIR,\n",
    "    RAW_DATA_DIR,\n",
    "    BUY_SELL_TABLE,\n",
    "    SOCIAL_MEDIA_TABLE,\n",
    ")\n",
    "from icarus.catalog import Catalog\n",
    "from icarus.synthetic_data.investments import fake, seed_table\n",
    "\n",
    "px.defaults.template = \"plotly_dark\"\n",
    "ibis.options.interactive = True"
   ]
  },
  {
   "cell_type": "code",
   "execution_count": null,
   "metadata": {},
   "outputs": [],
   "source": [
    "f\"{10_000_000_000 / (60 * 60 * 24):,.2f}\""
   ]
  },
  {
   "cell_type": "code",
   "execution_count": null,
   "metadata": {},
   "outputs": [],
   "source": [
    "lookback = ibis.interval(days=1)\n",
    "step = ibis.interval(seconds=1)"
   ]
  },
  {
   "cell_type": "code",
   "execution_count": null,
   "metadata": {},
   "outputs": [],
   "source": [
    "t = (\n",
    "    ibis.range(ibis.now() - lookback, ibis.now(), step=step)\n",
    "    .unnest()\n",
    "    .name(\"timestamp\")\n",
    "    .as_table()\n",
    "    .mutate(\n",
    "        index=(ibis.row_number().over(order_by=\"timestamp\")),\n",
    "        symbol=ibis.random(),\n",
    "        bid=ibis.random(),\n",
    "        bid_size=ibis.random(),\n",
    "        ask=ibis.random(),\n",
    "        ask_size=ibis.random(),\n",
    "        **{c: 2 * (ibis.random() - 0.5) for c in [\"a\", \"b\", \"c\"]},\n",
    "        **{\n",
    "            c: ibis.null(type=str)\n",
    "            for c in list(map(chr, range(ord(\"d\"), ord(\"z\") + 1)))\n",
    "        },\n",
    "    )\n",
    "    .relocate(\"index\", \"timestamp\")\n",
    ")\n",
    "t"
   ]
  },
  {
   "cell_type": "code",
   "execution_count": null,
   "metadata": {},
   "outputs": [],
   "source": [
    "import random\n",
    "\n",
    "symbols = [chr(i) for i in range(ord(\"A\"), ord(\"Z\") + 1)]\n",
    "symbols = [\n",
    "    f\"{a}{b}{c}{d}\" for a in symbols for b in symbols for c in symbols for d in symbols\n",
    "]\n",
    "symbols = random.sample(symbols, 500)\n",
    "symbols[:5]"
   ]
  },
  {
   "cell_type": "code",
   "execution_count": null,
   "metadata": {},
   "outputs": [],
   "source": [
    "symbols_case = ibis.case()\n",
    "for i, symbol in enumerate(symbols):\n",
    "    symbols_case = symbols_case.when(\n",
    "        (i / len(symbols) < ibis._[\"symbol\"])\n",
    "        & (ibis._[\"symbol\"] < ((i + 1) / len(symbols))),\n",
    "        symbol,\n",
    "    )\n",
    "symbols_case = symbols_case.else_(ibis.null()).end()"
   ]
  },
  {
   "cell_type": "code",
   "execution_count": null,
   "metadata": {},
   "outputs": [],
   "source": [
    "t = t.mutate(\n",
    "    symbol=symbols_case,\n",
    "    bid_size=(ibis._[\"bid_size\"] * 1000).cast(\"int64\"),\n",
    "    ask_size=(ibis._[\"ask_size\"] * 1000).cast(\"int64\"),\n",
    ")\n",
    "t"
   ]
  },
  {
   "cell_type": "code",
   "execution_count": null,
   "metadata": {},
   "outputs": [],
   "source": [
    "t"
   ]
  },
  {
   "cell_type": "code",
   "execution_count": null,
   "metadata": {},
   "outputs": [],
   "source": [
    "seed_table"
   ]
  },
  {
   "cell_type": "code",
   "execution_count": null,
   "metadata": {},
   "outputs": [],
   "source": [
    "catalog = Catalog()\n",
    "catalog.list_tables()"
   ]
  },
  {
   "cell_type": "code",
   "execution_count": null,
   "metadata": {},
   "outputs": [],
   "source": [
    "seed_table"
   ]
  },
  {
   "cell_type": "code",
   "execution_count": null,
   "metadata": {},
   "outputs": [],
   "source": [
    "data_glob = os.path.join(DATA_DIR, RAW_DATA_DIR, BUY_SELL_TABLE, \"*.parquet\")\n",
    "bs = ibis.read_parquet(data_glob)\n",
    "bs"
   ]
  },
  {
   "cell_type": "code",
   "execution_count": null,
   "metadata": {},
   "outputs": [],
   "source": [
    "bs = catalog.table(\"buy_sell\")\n",
    "bs"
   ]
  },
  {
   "cell_type": "code",
   "execution_count": null,
   "metadata": {},
   "outputs": [],
   "source": [
    "t = bs.group_by(\"ticker\").agg(count=ibis._.count()).order_by(ibis.desc(\"count\"))\n",
    "t"
   ]
  },
  {
   "cell_type": "code",
   "execution_count": null,
   "metadata": {},
   "outputs": [],
   "source": [
    "px.bar(\n",
    "    t,\n",
    "    x=\"ticker\",\n",
    "    y=\"count\",\n",
    "    title=\"Number of trades per symbol\",\n",
    "    color=\"ticker\",\n",
    ")"
   ]
  },
  {
   "cell_type": "code",
   "execution_count": null,
   "metadata": {},
   "outputs": [],
   "source": [
    "bs.count()"
   ]
  },
  {
   "cell_type": "code",
   "execution_count": null,
   "metadata": {},
   "outputs": [],
   "source": [
    "bs[\"location\"].value_counts()"
   ]
  },
  {
   "cell_type": "code",
   "execution_count": null,
   "metadata": {},
   "outputs": [],
   "source": [
    "f\"{bs.count().to_pyarrow().as_py():,}\""
   ]
  },
  {
   "cell_type": "code",
   "execution_count": null,
   "metadata": {},
   "outputs": [],
   "source": [
    "data_glob = os.path.join(DATA_DIR, RAW_DATA_DIR, SOCIAL_MEDIA_TABLE, \"*.parquet\")\n",
    "sm = ibis.read_parquet(data_glob)\n",
    "sm"
   ]
  },
  {
   "cell_type": "code",
   "execution_count": null,
   "metadata": {},
   "outputs": [],
   "source": [
    "sm = catalog.table(\"social_media\")\n",
    "sm"
   ]
  },
  {
   "cell_type": "code",
   "execution_count": null,
   "metadata": {},
   "outputs": [],
   "source": []
  }
 ],
 "metadata": {
  "kernelspec": {
   "display_name": "venv",
   "language": "python",
   "name": "python3"
  },
  "language_info": {
   "codemirror_mode": {
    "name": "ipython",
    "version": 3
   },
   "file_extension": ".py",
   "mimetype": "text/x-python",
   "name": "python",
   "nbconvert_exporter": "python",
   "pygments_lexer": "ipython3",
   "version": "3.11.8"
  }
 },
 "nbformat": 4,
 "nbformat_minor": 2
}
