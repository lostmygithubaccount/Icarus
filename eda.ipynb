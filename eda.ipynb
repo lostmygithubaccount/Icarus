{
 "cells": [
  {
   "cell_type": "markdown",
   "metadata": {},
   "source": [
    "# Exploratory data analysis (EDA)\n",
    "\n",
    "Use this notebook to explore and visualize the data."
   ]
  },
  {
   "cell_type": "code",
   "execution_count": 1,
   "metadata": {},
   "outputs": [],
   "source": [
    "import os\n",
    "import ibis\n",
    "import ibis.selectors as s\n",
    "\n",
    "import plotly.express as px\n",
    "\n",
    "from icarus.config import (\n",
    "    DATA_DIR,\n",
    "    RAW_DATA_DIR,\n",
    "    PENGUINS_TABLE,\n",
    "    BUY_SELL_TABLE,\n",
    "    SOCIAL_MEDIA_TABLE,\n",
    ")\n",
    "from icarus.catalog import Catalog\n",
    "from icarus.synthetic_data.investments import fake, seed_table\n",
    "\n",
    "px.defaults.template = \"plotly_dark\"\n",
    "ibis.options.interactive = True"
   ]
  },
  {
   "cell_type": "code",
   "execution_count": 3,
   "metadata": {},
   "outputs": [
    {
     "data": {
      "text/plain": [
       "['buy_sell.delta', 'social_media.delta', 'penguins.delta']"
      ]
     },
     "execution_count": 3,
     "metadata": {},
     "output_type": "execute_result"
    }
   ],
   "source": [
    "catalog = Catalog()\n",
    "catalog.list_tables()"
   ]
  },
  {
   "cell_type": "code",
   "execution_count": 4,
   "metadata": {},
   "outputs": [
    {
     "data": {
      "text/html": [
       "<pre style=\"white-space:pre;overflow-x:auto;line-height:normal;font-family:Menlo,'DejaVu Sans Mono',consolas,'Courier New',monospace\">┏━━━━━━━━━━━━━━━━━━━━━━━━━━━━┳━━━━━━━━━┳━━━━━━━━━━━┳━━━━━━━━━━━━━━━━┳━━━━━━━━━━━━━━━┳━━━━━━━━━━━━━━━━━━━┳━━━━━━━━━━━━━┳━━━━━━━━┳━━━━━━━┓\n",
       "┃<span style=\"font-weight: bold\"> extracted_at               </span>┃<span style=\"font-weight: bold\"> species </span>┃<span style=\"font-weight: bold\"> island    </span>┃<span style=\"font-weight: bold\"> bill_length_mm </span>┃<span style=\"font-weight: bold\"> bill_depth_mm </span>┃<span style=\"font-weight: bold\"> flipper_length_mm </span>┃<span style=\"font-weight: bold\"> body_mass_g </span>┃<span style=\"font-weight: bold\"> sex    </span>┃<span style=\"font-weight: bold\"> year  </span>┃\n",
       "┡━━━━━━━━━━━━━━━━━━━━━━━━━━━━╇━━━━━━━━━╇━━━━━━━━━━━╇━━━━━━━━━━━━━━━━╇━━━━━━━━━━━━━━━╇━━━━━━━━━━━━━━━━━━━╇━━━━━━━━━━━━━╇━━━━━━━━╇━━━━━━━┩\n",
       "│ <span style=\"color: #7f7f7f; text-decoration-color: #7f7f7f\">string</span>                     │ <span style=\"color: #7f7f7f; text-decoration-color: #7f7f7f\">string</span>  │ <span style=\"color: #7f7f7f; text-decoration-color: #7f7f7f\">string</span>    │ <span style=\"color: #7f7f7f; text-decoration-color: #7f7f7f\">float64</span>        │ <span style=\"color: #7f7f7f; text-decoration-color: #7f7f7f\">float64</span>       │ <span style=\"color: #7f7f7f; text-decoration-color: #7f7f7f\">int64</span>             │ <span style=\"color: #7f7f7f; text-decoration-color: #7f7f7f\">int64</span>       │ <span style=\"color: #7f7f7f; text-decoration-color: #7f7f7f\">string</span> │ <span style=\"color: #7f7f7f; text-decoration-color: #7f7f7f\">int64</span> │\n",
       "├────────────────────────────┼─────────┼───────────┼────────────────┼───────────────┼───────────────────┼─────────────┼────────┼───────┤\n",
       "│ <span style=\"color: #008000; text-decoration-color: #008000\">2024-08-25T19:17:49.803712</span> │ <span style=\"color: #008000; text-decoration-color: #008000\">Adelie </span> │ <span style=\"color: #008000; text-decoration-color: #008000\">Torgersen</span> │           <span style=\"color: #008080; text-decoration-color: #008080; font-weight: bold\">39.3</span> │          <span style=\"color: #008080; text-decoration-color: #008080; font-weight: bold\">20.6</span> │               <span style=\"color: #008080; text-decoration-color: #008080; font-weight: bold\">190</span> │        <span style=\"color: #008080; text-decoration-color: #008080; font-weight: bold\">3650</span> │ <span style=\"color: #008000; text-decoration-color: #008000\">male  </span> │  <span style=\"color: #008080; text-decoration-color: #008080; font-weight: bold\">2007</span> │\n",
       "│ <span style=\"color: #008000; text-decoration-color: #008000\">2024-08-25T19:17:49.803712</span> │ <span style=\"color: #008000; text-decoration-color: #008000\">Gentoo </span> │ <span style=\"color: #008000; text-decoration-color: #008000\">Biscoe   </span> │           <span style=\"color: #008080; text-decoration-color: #008080; font-weight: bold\">43.3</span> │          <span style=\"color: #008080; text-decoration-color: #008080; font-weight: bold\">14.0</span> │               <span style=\"color: #008080; text-decoration-color: #008080; font-weight: bold\">208</span> │        <span style=\"color: #008080; text-decoration-color: #008080; font-weight: bold\">4575</span> │ <span style=\"color: #008000; text-decoration-color: #008000\">female</span> │  <span style=\"color: #008080; text-decoration-color: #008080; font-weight: bold\">2009</span> │\n",
       "│ <span style=\"color: #008000; text-decoration-color: #008000\">2024-08-25T19:17:49.803712</span> │ <span style=\"color: #008000; text-decoration-color: #008000\">Adelie </span> │ <span style=\"color: #008000; text-decoration-color: #008000\">Torgersen</span> │           <span style=\"color: #008080; text-decoration-color: #008080; font-weight: bold\">38.7</span> │          <span style=\"color: #008080; text-decoration-color: #008080; font-weight: bold\">19.0</span> │               <span style=\"color: #008080; text-decoration-color: #008080; font-weight: bold\">195</span> │        <span style=\"color: #008080; text-decoration-color: #008080; font-weight: bold\">3450</span> │ <span style=\"color: #008000; text-decoration-color: #008000\">female</span> │  <span style=\"color: #008080; text-decoration-color: #008080; font-weight: bold\">2007</span> │\n",
       "│ <span style=\"color: #008000; text-decoration-color: #008000\">2024-08-25T19:17:49.803712</span> │ <span style=\"color: #008000; text-decoration-color: #008000\">Adelie </span> │ <span style=\"color: #008000; text-decoration-color: #008000\">Dream    </span> │           <span style=\"color: #008080; text-decoration-color: #008080; font-weight: bold\">39.5</span> │          <span style=\"color: #008080; text-decoration-color: #008080; font-weight: bold\">16.7</span> │               <span style=\"color: #008080; text-decoration-color: #008080; font-weight: bold\">178</span> │        <span style=\"color: #008080; text-decoration-color: #008080; font-weight: bold\">3250</span> │ <span style=\"color: #008000; text-decoration-color: #008000\">female</span> │  <span style=\"color: #008080; text-decoration-color: #008080; font-weight: bold\">2007</span> │\n",
       "│ <span style=\"color: #008000; text-decoration-color: #008000\">2024-08-25T19:17:49.803712</span> │ <span style=\"color: #008000; text-decoration-color: #008000\">Adelie </span> │ <span style=\"color: #008000; text-decoration-color: #008000\">Dream    </span> │           <span style=\"color: #008080; text-decoration-color: #008080; font-weight: bold\">36.4</span> │          <span style=\"color: #008080; text-decoration-color: #008080; font-weight: bold\">17.0</span> │               <span style=\"color: #008080; text-decoration-color: #008080; font-weight: bold\">195</span> │        <span style=\"color: #008080; text-decoration-color: #008080; font-weight: bold\">3325</span> │ <span style=\"color: #008000; text-decoration-color: #008000\">female</span> │  <span style=\"color: #008080; text-decoration-color: #008080; font-weight: bold\">2007</span> │\n",
       "│ <span style=\"color: #008000; text-decoration-color: #008000\">2024-08-25T19:17:49.803712</span> │ <span style=\"color: #008000; text-decoration-color: #008000\">Adelie </span> │ <span style=\"color: #008000; text-decoration-color: #008000\">Torgersen</span> │           <span style=\"color: #008080; text-decoration-color: #008080; font-weight: bold\">34.4</span> │          <span style=\"color: #008080; text-decoration-color: #008080; font-weight: bold\">18.4</span> │               <span style=\"color: #008080; text-decoration-color: #008080; font-weight: bold\">184</span> │        <span style=\"color: #008080; text-decoration-color: #008080; font-weight: bold\">3325</span> │ <span style=\"color: #008000; text-decoration-color: #008000\">female</span> │  <span style=\"color: #008080; text-decoration-color: #008080; font-weight: bold\">2007</span> │\n",
       "│ <span style=\"color: #008000; text-decoration-color: #008000\">2024-08-25T19:17:49.803712</span> │ <span style=\"color: #008000; text-decoration-color: #008000\">Gentoo </span> │ <span style=\"color: #008000; text-decoration-color: #008000\">Biscoe   </span> │           <span style=\"color: #008080; text-decoration-color: #008080; font-weight: bold\">52.1</span> │          <span style=\"color: #008080; text-decoration-color: #008080; font-weight: bold\">17.0</span> │               <span style=\"color: #008080; text-decoration-color: #008080; font-weight: bold\">230</span> │        <span style=\"color: #008080; text-decoration-color: #008080; font-weight: bold\">5550</span> │ <span style=\"color: #008000; text-decoration-color: #008000\">male  </span> │  <span style=\"color: #008080; text-decoration-color: #008080; font-weight: bold\">2009</span> │\n",
       "│ <span style=\"color: #008000; text-decoration-color: #008000\">2024-08-25T19:17:49.803712</span> │ <span style=\"color: #008000; text-decoration-color: #008000\">Adelie </span> │ <span style=\"color: #008000; text-decoration-color: #008000\">Biscoe   </span> │           <span style=\"color: #008080; text-decoration-color: #008080; font-weight: bold\">38.2</span> │          <span style=\"color: #008080; text-decoration-color: #008080; font-weight: bold\">18.1</span> │               <span style=\"color: #008080; text-decoration-color: #008080; font-weight: bold\">185</span> │        <span style=\"color: #008080; text-decoration-color: #008080; font-weight: bold\">3950</span> │ <span style=\"color: #008000; text-decoration-color: #008000\">male  </span> │  <span style=\"color: #008080; text-decoration-color: #008080; font-weight: bold\">2007</span> │\n",
       "│ <span style=\"color: #008000; text-decoration-color: #008000\">2024-08-25T19:17:49.803712</span> │ <span style=\"color: #008000; text-decoration-color: #008000\">Adelie </span> │ <span style=\"color: #008000; text-decoration-color: #008000\">Biscoe   </span> │           <span style=\"color: #008080; text-decoration-color: #008080; font-weight: bold\">35.3</span> │          <span style=\"color: #008080; text-decoration-color: #008080; font-weight: bold\">18.9</span> │               <span style=\"color: #008080; text-decoration-color: #008080; font-weight: bold\">187</span> │        <span style=\"color: #008080; text-decoration-color: #008080; font-weight: bold\">3800</span> │ <span style=\"color: #008000; text-decoration-color: #008000\">female</span> │  <span style=\"color: #008080; text-decoration-color: #008080; font-weight: bold\">2007</span> │\n",
       "│ <span style=\"color: #008000; text-decoration-color: #008000\">2024-08-25T19:17:49.803712</span> │ <span style=\"color: #008000; text-decoration-color: #008000\">Adelie </span> │ <span style=\"color: #008000; text-decoration-color: #008000\">Biscoe   </span> │           <span style=\"color: #008080; text-decoration-color: #008080; font-weight: bold\">40.5</span> │          <span style=\"color: #008080; text-decoration-color: #008080; font-weight: bold\">17.9</span> │               <span style=\"color: #008080; text-decoration-color: #008080; font-weight: bold\">187</span> │        <span style=\"color: #008080; text-decoration-color: #008080; font-weight: bold\">3200</span> │ <span style=\"color: #008000; text-decoration-color: #008000\">female</span> │  <span style=\"color: #008080; text-decoration-color: #008080; font-weight: bold\">2007</span> │\n",
       "│ <span style=\"color: #7f7f7f; text-decoration-color: #7f7f7f\">…</span>                          │ <span style=\"color: #7f7f7f; text-decoration-color: #7f7f7f\">…</span>       │ <span style=\"color: #7f7f7f; text-decoration-color: #7f7f7f\">…</span>         │              <span style=\"color: #7f7f7f; text-decoration-color: #7f7f7f\">…</span> │             <span style=\"color: #7f7f7f; text-decoration-color: #7f7f7f\">…</span> │                 <span style=\"color: #7f7f7f; text-decoration-color: #7f7f7f\">…</span> │           <span style=\"color: #7f7f7f; text-decoration-color: #7f7f7f\">…</span> │ <span style=\"color: #7f7f7f; text-decoration-color: #7f7f7f\">…</span>      │     <span style=\"color: #7f7f7f; text-decoration-color: #7f7f7f\">…</span> │\n",
       "└────────────────────────────┴─────────┴───────────┴────────────────┴───────────────┴───────────────────┴─────────────┴────────┴───────┘\n",
       "</pre>\n"
      ],
      "text/plain": [
       "┏━━━━━━━━━━━━━━━━━━━━━━━━━━━━┳━━━━━━━━━┳━━━━━━━━━━━┳━━━━━━━━━━━━━━━━┳━━━━━━━━━━━━━━━┳━━━━━━━━━━━━━━━━━━━┳━━━━━━━━━━━━━┳━━━━━━━━┳━━━━━━━┓\n",
       "┃\u001b[1m \u001b[0m\u001b[1mextracted_at\u001b[0m\u001b[1m              \u001b[0m\u001b[1m \u001b[0m┃\u001b[1m \u001b[0m\u001b[1mspecies\u001b[0m\u001b[1m \u001b[0m┃\u001b[1m \u001b[0m\u001b[1misland\u001b[0m\u001b[1m   \u001b[0m\u001b[1m \u001b[0m┃\u001b[1m \u001b[0m\u001b[1mbill_length_mm\u001b[0m\u001b[1m \u001b[0m┃\u001b[1m \u001b[0m\u001b[1mbill_depth_mm\u001b[0m\u001b[1m \u001b[0m┃\u001b[1m \u001b[0m\u001b[1mflipper_length_mm\u001b[0m\u001b[1m \u001b[0m┃\u001b[1m \u001b[0m\u001b[1mbody_mass_g\u001b[0m\u001b[1m \u001b[0m┃\u001b[1m \u001b[0m\u001b[1msex\u001b[0m\u001b[1m   \u001b[0m\u001b[1m \u001b[0m┃\u001b[1m \u001b[0m\u001b[1myear\u001b[0m\u001b[1m \u001b[0m\u001b[1m \u001b[0m┃\n",
       "┡━━━━━━━━━━━━━━━━━━━━━━━━━━━━╇━━━━━━━━━╇━━━━━━━━━━━╇━━━━━━━━━━━━━━━━╇━━━━━━━━━━━━━━━╇━━━━━━━━━━━━━━━━━━━╇━━━━━━━━━━━━━╇━━━━━━━━╇━━━━━━━┩\n",
       "│ \u001b[2mstring\u001b[0m                     │ \u001b[2mstring\u001b[0m  │ \u001b[2mstring\u001b[0m    │ \u001b[2mfloat64\u001b[0m        │ \u001b[2mfloat64\u001b[0m       │ \u001b[2mint64\u001b[0m             │ \u001b[2mint64\u001b[0m       │ \u001b[2mstring\u001b[0m │ \u001b[2mint64\u001b[0m │\n",
       "├────────────────────────────┼─────────┼───────────┼────────────────┼───────────────┼───────────────────┼─────────────┼────────┼───────┤\n",
       "│ \u001b[32m2024-08-25T19:17:49.803712\u001b[0m │ \u001b[32mAdelie \u001b[0m │ \u001b[32mTorgersen\u001b[0m │           \u001b[1;36m39.3\u001b[0m │          \u001b[1;36m20.6\u001b[0m │               \u001b[1;36m190\u001b[0m │        \u001b[1;36m3650\u001b[0m │ \u001b[32mmale  \u001b[0m │  \u001b[1;36m2007\u001b[0m │\n",
       "│ \u001b[32m2024-08-25T19:17:49.803712\u001b[0m │ \u001b[32mGentoo \u001b[0m │ \u001b[32mBiscoe   \u001b[0m │           \u001b[1;36m43.3\u001b[0m │          \u001b[1;36m14.0\u001b[0m │               \u001b[1;36m208\u001b[0m │        \u001b[1;36m4575\u001b[0m │ \u001b[32mfemale\u001b[0m │  \u001b[1;36m2009\u001b[0m │\n",
       "│ \u001b[32m2024-08-25T19:17:49.803712\u001b[0m │ \u001b[32mAdelie \u001b[0m │ \u001b[32mTorgersen\u001b[0m │           \u001b[1;36m38.7\u001b[0m │          \u001b[1;36m19.0\u001b[0m │               \u001b[1;36m195\u001b[0m │        \u001b[1;36m3450\u001b[0m │ \u001b[32mfemale\u001b[0m │  \u001b[1;36m2007\u001b[0m │\n",
       "│ \u001b[32m2024-08-25T19:17:49.803712\u001b[0m │ \u001b[32mAdelie \u001b[0m │ \u001b[32mDream    \u001b[0m │           \u001b[1;36m39.5\u001b[0m │          \u001b[1;36m16.7\u001b[0m │               \u001b[1;36m178\u001b[0m │        \u001b[1;36m3250\u001b[0m │ \u001b[32mfemale\u001b[0m │  \u001b[1;36m2007\u001b[0m │\n",
       "│ \u001b[32m2024-08-25T19:17:49.803712\u001b[0m │ \u001b[32mAdelie \u001b[0m │ \u001b[32mDream    \u001b[0m │           \u001b[1;36m36.4\u001b[0m │          \u001b[1;36m17.0\u001b[0m │               \u001b[1;36m195\u001b[0m │        \u001b[1;36m3325\u001b[0m │ \u001b[32mfemale\u001b[0m │  \u001b[1;36m2007\u001b[0m │\n",
       "│ \u001b[32m2024-08-25T19:17:49.803712\u001b[0m │ \u001b[32mAdelie \u001b[0m │ \u001b[32mTorgersen\u001b[0m │           \u001b[1;36m34.4\u001b[0m │          \u001b[1;36m18.4\u001b[0m │               \u001b[1;36m184\u001b[0m │        \u001b[1;36m3325\u001b[0m │ \u001b[32mfemale\u001b[0m │  \u001b[1;36m2007\u001b[0m │\n",
       "│ \u001b[32m2024-08-25T19:17:49.803712\u001b[0m │ \u001b[32mGentoo \u001b[0m │ \u001b[32mBiscoe   \u001b[0m │           \u001b[1;36m52.1\u001b[0m │          \u001b[1;36m17.0\u001b[0m │               \u001b[1;36m230\u001b[0m │        \u001b[1;36m5550\u001b[0m │ \u001b[32mmale  \u001b[0m │  \u001b[1;36m2009\u001b[0m │\n",
       "│ \u001b[32m2024-08-25T19:17:49.803712\u001b[0m │ \u001b[32mAdelie \u001b[0m │ \u001b[32mBiscoe   \u001b[0m │           \u001b[1;36m38.2\u001b[0m │          \u001b[1;36m18.1\u001b[0m │               \u001b[1;36m185\u001b[0m │        \u001b[1;36m3950\u001b[0m │ \u001b[32mmale  \u001b[0m │  \u001b[1;36m2007\u001b[0m │\n",
       "│ \u001b[32m2024-08-25T19:17:49.803712\u001b[0m │ \u001b[32mAdelie \u001b[0m │ \u001b[32mBiscoe   \u001b[0m │           \u001b[1;36m35.3\u001b[0m │          \u001b[1;36m18.9\u001b[0m │               \u001b[1;36m187\u001b[0m │        \u001b[1;36m3800\u001b[0m │ \u001b[32mfemale\u001b[0m │  \u001b[1;36m2007\u001b[0m │\n",
       "│ \u001b[32m2024-08-25T19:17:49.803712\u001b[0m │ \u001b[32mAdelie \u001b[0m │ \u001b[32mBiscoe   \u001b[0m │           \u001b[1;36m40.5\u001b[0m │          \u001b[1;36m17.9\u001b[0m │               \u001b[1;36m187\u001b[0m │        \u001b[1;36m3200\u001b[0m │ \u001b[32mfemale\u001b[0m │  \u001b[1;36m2007\u001b[0m │\n",
       "│ \u001b[2m…\u001b[0m                          │ \u001b[2m…\u001b[0m       │ \u001b[2m…\u001b[0m         │              \u001b[2m…\u001b[0m │             \u001b[2m…\u001b[0m │                 \u001b[2m…\u001b[0m │           \u001b[2m…\u001b[0m │ \u001b[2m…\u001b[0m      │     \u001b[2m…\u001b[0m │\n",
       "└────────────────────────────┴─────────┴───────────┴────────────────┴───────────────┴───────────────────┴─────────────┴────────┴───────┘"
      ]
     },
     "execution_count": 4,
     "metadata": {},
     "output_type": "execute_result"
    }
   ],
   "source": [
    "t = catalog.table(PENGUINS_TABLE)\n",
    "t"
   ]
  },
  {
   "cell_type": "code",
   "execution_count": 5,
   "metadata": {},
   "outputs": [
    {
     "data": {
      "text/html": [
       "<pre style=\"white-space:pre;overflow-x:auto;line-height:normal;font-family:Menlo,'DejaVu Sans Mono',consolas,'Courier New',monospace\"></pre>\n"
      ],
      "text/plain": []
     },
     "metadata": {},
     "output_type": "display_data"
    },
    {
     "data": {
      "text/plain": [
       "┌───────────────┐\n",
       "│ \u001b[1;35mnp.int64\u001b[0m\u001b[1m(\u001b[0m\u001b[1;36m344\u001b[0m\u001b[1m)\u001b[0m │\n",
       "└───────────────┘"
      ]
     },
     "execution_count": 5,
     "metadata": {},
     "output_type": "execute_result"
    }
   ],
   "source": [
    "t.count()"
   ]
  },
  {
   "cell_type": "code",
   "execution_count": 2,
   "metadata": {},
   "outputs": [
    {
     "data": {
      "text/plain": [
       "'115,740.74'"
      ]
     },
     "execution_count": 2,
     "metadata": {},
     "output_type": "execute_result"
    }
   ],
   "source": [
    "f\"{10_000_000_000 / (60 * 60 * 24):,.2f}\""
   ]
  },
  {
   "cell_type": "code",
   "execution_count": null,
   "metadata": {},
   "outputs": [],
   "source": [
    "lookback = ibis.interval(days=1)\n",
    "step = ibis.interval(seconds=1)"
   ]
  },
  {
   "cell_type": "code",
   "execution_count": null,
   "metadata": {},
   "outputs": [],
   "source": [
    "t = (\n",
    "    ibis.range(ibis.now() - lookback, ibis.now(), step=step)\n",
    "    .unnest()\n",
    "    .name(\"timestamp\")\n",
    "    .as_table()\n",
    "    .mutate(\n",
    "        index=(ibis.row_number().over(order_by=\"timestamp\")),\n",
    "        symbol=ibis.random(),\n",
    "        bid=ibis.random(),\n",
    "        bid_size=ibis.random(),\n",
    "        ask=ibis.random(),\n",
    "        ask_size=ibis.random(),\n",
    "        **{c: 2 * (ibis.random() - 0.5) for c in [\"a\", \"b\", \"c\"]},\n",
    "        **{\n",
    "            c: ibis.null(type=str)\n",
    "            for c in list(map(chr, range(ord(\"d\"), ord(\"z\") + 1)))\n",
    "        },\n",
    "    )\n",
    "    .relocate(\"index\", \"timestamp\")\n",
    ")\n",
    "t"
   ]
  },
  {
   "cell_type": "code",
   "execution_count": null,
   "metadata": {},
   "outputs": [],
   "source": [
    "import random\n",
    "\n",
    "symbols = [chr(i) for i in range(ord(\"A\"), ord(\"Z\") + 1)]\n",
    "symbols = [\n",
    "    f\"{a}{b}{c}{d}\" for a in symbols for b in symbols for c in symbols for d in symbols\n",
    "]\n",
    "symbols = random.sample(symbols, 500)\n",
    "symbols[:5]"
   ]
  },
  {
   "cell_type": "code",
   "execution_count": null,
   "metadata": {},
   "outputs": [],
   "source": [
    "symbols_case = ibis.case()\n",
    "for i, symbol in enumerate(symbols):\n",
    "    symbols_case = symbols_case.when(\n",
    "        (i / len(symbols) < ibis._[\"symbol\"])\n",
    "        & (ibis._[\"symbol\"] < ((i + 1) / len(symbols))),\n",
    "        symbol,\n",
    "    )\n",
    "symbols_case = symbols_case.else_(ibis.null()).end()"
   ]
  },
  {
   "cell_type": "code",
   "execution_count": null,
   "metadata": {},
   "outputs": [],
   "source": [
    "t = t.mutate(\n",
    "    symbol=symbols_case,\n",
    "    bid_size=(ibis._[\"bid_size\"] * 1000).cast(\"int64\"),\n",
    "    ask_size=(ibis._[\"ask_size\"] * 1000).cast(\"int64\"),\n",
    ")\n",
    "t"
   ]
  },
  {
   "cell_type": "code",
   "execution_count": null,
   "metadata": {},
   "outputs": [],
   "source": [
    "t"
   ]
  },
  {
   "cell_type": "code",
   "execution_count": null,
   "metadata": {},
   "outputs": [],
   "source": [
    "seed_table"
   ]
  },
  {
   "cell_type": "code",
   "execution_count": null,
   "metadata": {},
   "outputs": [],
   "source": [
    "catalog = Catalog()\n",
    "catalog.list_tables()"
   ]
  },
  {
   "cell_type": "code",
   "execution_count": null,
   "metadata": {},
   "outputs": [],
   "source": [
    "seed_table"
   ]
  },
  {
   "cell_type": "code",
   "execution_count": null,
   "metadata": {},
   "outputs": [],
   "source": [
    "data_glob = os.path.join(DATA_DIR, RAW_DATA_DIR, BUY_SELL_TABLE, \"*.parquet\")\n",
    "bs = ibis.read_parquet(data_glob)\n",
    "bs"
   ]
  },
  {
   "cell_type": "code",
   "execution_count": null,
   "metadata": {},
   "outputs": [],
   "source": [
    "bs = catalog.table(\"buy_sell\")\n",
    "bs"
   ]
  },
  {
   "cell_type": "code",
   "execution_count": null,
   "metadata": {},
   "outputs": [],
   "source": [
    "t = bs.group_by(\"ticker\").agg(count=ibis._.count()).order_by(ibis.desc(\"count\"))\n",
    "t"
   ]
  },
  {
   "cell_type": "code",
   "execution_count": null,
   "metadata": {},
   "outputs": [],
   "source": [
    "px.bar(\n",
    "    t,\n",
    "    x=\"ticker\",\n",
    "    y=\"count\",\n",
    "    title=\"Number of trades per symbol\",\n",
    "    color=\"ticker\",\n",
    ")"
   ]
  },
  {
   "cell_type": "code",
   "execution_count": null,
   "metadata": {},
   "outputs": [],
   "source": [
    "bs.count()"
   ]
  },
  {
   "cell_type": "code",
   "execution_count": null,
   "metadata": {},
   "outputs": [],
   "source": [
    "bs[\"location\"].value_counts()"
   ]
  },
  {
   "cell_type": "code",
   "execution_count": null,
   "metadata": {},
   "outputs": [],
   "source": [
    "f\"{bs.count().to_pyarrow().as_py():,}\""
   ]
  },
  {
   "cell_type": "code",
   "execution_count": null,
   "metadata": {},
   "outputs": [],
   "source": [
    "data_glob = os.path.join(DATA_DIR, RAW_DATA_DIR, SOCIAL_MEDIA_TABLE, \"*.parquet\")\n",
    "sm = ibis.read_parquet(data_glob)\n",
    "sm"
   ]
  },
  {
   "cell_type": "code",
   "execution_count": null,
   "metadata": {},
   "outputs": [],
   "source": [
    "sm = catalog.table(\"social_media\")\n",
    "sm"
   ]
  },
  {
   "cell_type": "code",
   "execution_count": null,
   "metadata": {},
   "outputs": [],
   "source": []
  }
 ],
 "metadata": {
  "kernelspec": {
   "display_name": "venv",
   "language": "python",
   "name": "python3"
  },
  "language_info": {
   "codemirror_mode": {
    "name": "ipython",
    "version": 3
   },
   "file_extension": ".py",
   "mimetype": "text/x-python",
   "name": "python",
   "nbconvert_exporter": "python",
   "pygments_lexer": "ipython3",
   "version": "3.12.4"
  }
 },
 "nbformat": 4,
 "nbformat_minor": 2
}
